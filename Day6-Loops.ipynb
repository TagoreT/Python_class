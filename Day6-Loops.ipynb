{
  "nbformat": 4,
  "nbformat_minor": 0,
  "metadata": {
    "colab": {
      "provenance": [],
      "authorship_tag": "ABX9TyNeAFC5R84lZAllp4lT/h9c",
      "include_colab_link": true
    },
    "kernelspec": {
      "name": "python3",
      "display_name": "Python 3"
    },
    "language_info": {
      "name": "python"
    }
  },
  "cells": [
    {
      "cell_type": "markdown",
      "metadata": {
        "id": "view-in-github",
        "colab_type": "text"
      },
      "source": [
        "<a href=\"https://colab.research.google.com/github/TagoreT/Python_class/blob/main/Day6-Loops.ipynb\" target=\"_parent\"><img src=\"https://colab.research.google.com/assets/colab-badge.svg\" alt=\"Open In Colab\"/></a>"
      ]
    },
    {
      "cell_type": "markdown",
      "source": [
        "1. For loop\n",
        "2. While Loop\n",
        "3. Looping cntrolls\n",
        "4. Nested loops"
      ],
      "metadata": {
        "id": "l86LNJlXiBaK"
      }
    },
    {
      "cell_type": "markdown",
      "source": [
        "# 1.For Loop"
      ],
      "metadata": {
        "id": "2sR78L2-uY0f"
      }
    },
    {
      "cell_type": "code",
      "execution_count": null,
      "metadata": {
        "id": "Wzde9TO0hk6D"
      },
      "outputs": [],
      "source": [
        "# For loop\n",
        "\n",
        "#syntax\n",
        "for variable in sequence:\n",
        "  #code block to exicute"
      ]
    },
    {
      "cell_type": "code",
      "source": [
        "fruits = ['apple', 'mango', 'grape']\n",
        "\n",
        "for fruit in fruits:\n",
        "  print(fruit)\n",
        "\n",
        "# if 'apple' in fruits:\n",
        "#   print('apple is present')"
      ],
      "metadata": {
        "colab": {
          "base_uri": "https://localhost:8080/"
        },
        "id": "jABNJKRQitAi",
        "outputId": "5bd218a2-44fc-4c0c-cab5-c36014a70a2c"
      },
      "execution_count": 3,
      "outputs": [
        {
          "output_type": "stream",
          "name": "stdout",
          "text": [
            "apple\n",
            "mango\n",
            "grape\n",
            "apple is present\n"
          ]
        }
      ]
    },
    {
      "cell_type": "code",
      "source": [
        "num = [1,2,3,4,5]\n",
        "\n",
        "for i in range(5):\n",
        "  print(i, num[i]) #num[0], num[1]\n"
      ],
      "metadata": {
        "colab": {
          "base_uri": "https://localhost:8080/"
        },
        "id": "oSQ1KjvTkIEA",
        "outputId": "8c42a00f-d47e-4b39-90b8-a91d58336b29"
      },
      "execution_count": 7,
      "outputs": [
        {
          "output_type": "stream",
          "name": "stdout",
          "text": [
            "0 1\n",
            "1 2\n",
            "2 3\n",
            "3 4\n",
            "4 5\n"
          ]
        }
      ]
    },
    {
      "cell_type": "code",
      "source": [
        "for i in range(2, 50, 2): # starting, ending, step up (101-1)\n",
        "  print(i)"
      ],
      "metadata": {
        "colab": {
          "base_uri": "https://localhost:8080/"
        },
        "collapsed": true,
        "id": "b5Kft85mlMq8",
        "outputId": "f55a5376-2e9b-4ed2-fde8-dfc2637360c3"
      },
      "execution_count": 11,
      "outputs": [
        {
          "output_type": "stream",
          "name": "stdout",
          "text": [
            "2\n",
            "4\n",
            "6\n",
            "8\n",
            "10\n",
            "12\n",
            "14\n",
            "16\n",
            "18\n",
            "20\n",
            "22\n",
            "24\n",
            "26\n",
            "28\n",
            "30\n",
            "32\n",
            "34\n",
            "36\n",
            "38\n",
            "40\n",
            "42\n",
            "44\n",
            "46\n",
            "48\n"
          ]
        }
      ]
    },
    {
      "cell_type": "code",
      "source": [
        "for i in range(50, 1, -2): # starting, ending, step up (101-1)\n",
        "  print(i)"
      ],
      "metadata": {
        "colab": {
          "base_uri": "https://localhost:8080/"
        },
        "collapsed": true,
        "id": "rF-FAWE9mQno",
        "outputId": "ec2c508e-4aec-42d9-b9ba-f56e3e239e9a"
      },
      "execution_count": 13,
      "outputs": [
        {
          "output_type": "stream",
          "name": "stdout",
          "text": [
            "50\n",
            "48\n",
            "46\n",
            "44\n",
            "42\n",
            "40\n",
            "38\n",
            "36\n",
            "34\n",
            "32\n",
            "30\n",
            "28\n",
            "26\n",
            "24\n",
            "22\n",
            "20\n",
            "18\n",
            "16\n",
            "14\n",
            "12\n",
            "10\n",
            "8\n",
            "6\n",
            "4\n",
            "2\n"
          ]
        }
      ]
    },
    {
      "cell_type": "code",
      "source": [
        "string = \"python is easy!\"\n",
        "\n",
        "for char in string:\n",
        "  print(char)"
      ],
      "metadata": {
        "colab": {
          "base_uri": "https://localhost:8080/"
        },
        "collapsed": true,
        "id": "Zyxc1iObmpzy",
        "outputId": "66a08a71-afda-4ab1-8df8-6004a99263b4"
      },
      "execution_count": 14,
      "outputs": [
        {
          "output_type": "stream",
          "name": "stdout",
          "text": [
            "p\n",
            "y\n",
            "t\n",
            "h\n",
            "o\n",
            "n\n",
            " \n",
            "i\n",
            "s\n",
            " \n",
            "e\n",
            "a\n",
            "s\n",
            "y\n",
            "!\n"
          ]
        }
      ]
    },
    {
      "cell_type": "markdown",
      "source": [
        "# 2. While Loop"
      ],
      "metadata": {
        "id": "4hku0XX7m-Cz"
      }
    },
    {
      "cell_type": "code",
      "source": [
        "while condition:\n",
        "  #code block"
      ],
      "metadata": {
        "id": "m1Ko_NxPm9WF"
      },
      "execution_count": null,
      "outputs": []
    },
    {
      "cell_type": "code",
      "source": [
        "num = 1\n",
        "\n",
        "while num <= 10:\n",
        "  print(num)\n",
        "  num += 1"
      ],
      "metadata": {
        "colab": {
          "base_uri": "https://localhost:8080/"
        },
        "id": "aNRXImsQnSlc",
        "outputId": "015e3569-4753-4835-b769-d4b0129f6915"
      },
      "execution_count": 18,
      "outputs": [
        {
          "output_type": "stream",
          "name": "stdout",
          "text": [
            "1\n",
            "2\n",
            "3\n",
            "4\n",
            "5\n",
            "6\n",
            "7\n",
            "8\n",
            "9\n",
            "10\n"
          ]
        }
      ]
    },
    {
      "cell_type": "code",
      "source": [
        "num = 10\n",
        "\n",
        "while num > 0:\n",
        "  print(num)\n",
        "  num -= 2"
      ],
      "metadata": {
        "colab": {
          "base_uri": "https://localhost:8080/"
        },
        "id": "WgSc_GnvoT4g",
        "outputId": "9074bef3-2231-4e22-f677-262ef76300c9"
      },
      "execution_count": 20,
      "outputs": [
        {
          "output_type": "stream",
          "name": "stdout",
          "text": [
            "10\n",
            "8\n",
            "6\n",
            "4\n",
            "2\n"
          ]
        }
      ]
    },
    {
      "cell_type": "code",
      "source": [
        "while True:\n",
        "  print(\"infinite loop\")\n",
        "  break"
      ],
      "metadata": {
        "colab": {
          "base_uri": "https://localhost:8080/"
        },
        "id": "kBRjoKU1oser",
        "outputId": "454013e2-ed00-447a-eb7f-35841afc7de3"
      },
      "execution_count": 21,
      "outputs": [
        {
          "output_type": "stream",
          "name": "stdout",
          "text": [
            "infinite loop\n"
          ]
        }
      ]
    },
    {
      "cell_type": "code",
      "source": [
        "num =  0\n",
        "\n",
        "while True:\n",
        "  num += 1\n",
        "\n",
        "  if num % 2 == 0:\n",
        "    continue\n",
        "\n",
        "  print(num)\n",
        "\n",
        "  if num > 10:\n",
        "    break"
      ],
      "metadata": {
        "colab": {
          "base_uri": "https://localhost:8080/"
        },
        "id": "Q1KM3Oyto8W6",
        "outputId": "efc383a9-a2f9-481d-8888-490b76951d17"
      },
      "execution_count": 28,
      "outputs": [
        {
          "output_type": "stream",
          "name": "stdout",
          "text": [
            "1\n",
            "3\n",
            "5\n",
            "7\n",
            "9\n",
            "11\n"
          ]
        }
      ]
    },
    {
      "cell_type": "code",
      "source": [
        "for i in range(1, 5):\n",
        "  print('i value changed to ', i)\n",
        "  for j in range(1, 5):\n",
        "    print(i, j)"
      ],
      "metadata": {
        "colab": {
          "base_uri": "https://localhost:8080/"
        },
        "collapsed": true,
        "id": "c-WUGOtNrP6h",
        "outputId": "ba3ab36a-04f0-4604-bbb8-a5eaa90335d5"
      },
      "execution_count": 32,
      "outputs": [
        {
          "output_type": "stream",
          "name": "stdout",
          "text": [
            "i value changed to  1\n",
            "1 1\n",
            "1 2\n",
            "1 3\n",
            "1 4\n",
            "i value changed to  2\n",
            "2 1\n",
            "2 2\n",
            "2 3\n",
            "2 4\n",
            "i value changed to  3\n",
            "3 1\n",
            "3 2\n",
            "3 3\n",
            "3 4\n",
            "i value changed to  4\n",
            "4 1\n",
            "4 2\n",
            "4 3\n",
            "4 4\n"
          ]
        }
      ]
    },
    {
      "cell_type": "markdown",
      "source": [
        "# Patterns"
      ],
      "metadata": {
        "id": "dlztrwjEufgj"
      }
    },
    {
      "cell_type": "code",
      "source": [
        "for i in range(5): #0, 1\n",
        "  for j in range(i+1): #0, range=2{0, 1}\n",
        "    print('*', end=' ')\n",
        "  print()"
      ],
      "metadata": {
        "colab": {
          "base_uri": "https://localhost:8080/"
        },
        "id": "HOEXVxs3sUWs",
        "outputId": "c0cfe4ca-b058-4ac6-e486-b393ddc54856"
      },
      "execution_count": 36,
      "outputs": [
        {
          "output_type": "stream",
          "name": "stdout",
          "text": [
            "* \n",
            "* * \n",
            "* * * \n",
            "* * * * \n",
            "* * * * * \n"
          ]
        }
      ]
    },
    {
      "cell_type": "code",
      "source": [
        "for i in range(1, 6): #0, 1\n",
        "  for j in range(1, i+1): #0, range=2{0, 1}\n",
        "    print(j, end=' ')\n",
        "  print()"
      ],
      "metadata": {
        "colab": {
          "base_uri": "https://localhost:8080/"
        },
        "id": "CS3s1fVFty_V",
        "outputId": "08f2b880-3373-490f-9f0e-599454149baa"
      },
      "execution_count": 37,
      "outputs": [
        {
          "output_type": "stream",
          "name": "stdout",
          "text": [
            "1 \n",
            "1 2 \n",
            "1 2 3 \n",
            "1 2 3 4 \n",
            "1 2 3 4 5 \n"
          ]
        }
      ]
    }
  ]
}