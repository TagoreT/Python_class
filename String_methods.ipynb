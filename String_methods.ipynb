{
  "nbformat": 4,
  "nbformat_minor": 0,
  "metadata": {
    "colab": {
      "provenance": []
    },
    "kernelspec": {
      "name": "python3",
      "display_name": "Python 3"
    },
    "language_info": {
      "name": "python"
    }
  },
  "cells": [
    {
      "cell_type": "code",
      "execution_count": 1,
      "metadata": {
        "colab": {
          "base_uri": "https://localhost:8080/"
        },
        "id": "Z4gHHIVKgotH",
        "outputId": "51c147d3-1cf2-4170-8e74-5c9e9df276f4"
      },
      "outputs": [
        {
          "output_type": "stream",
          "name": "stdout",
          "text": [
            "HELLO\n"
          ]
        }
      ],
      "source": [
        "s = \"hello\"\n",
        "print(s.upper())  # Output: \"HELLO\"\n"
      ]
    },
    {
      "cell_type": "code",
      "source": [
        "s = \"HELLO\"\n",
        "print(s.lower())  # Output: \"hello\"\n"
      ],
      "metadata": {
        "colab": {
          "base_uri": "https://localhost:8080/"
        },
        "id": "-3zONrpphMku",
        "outputId": "f30c5482-c864-4427-a336-7b708e2397f2"
      },
      "execution_count": 2,
      "outputs": [
        {
          "output_type": "stream",
          "name": "stdout",
          "text": [
            "hello\n"
          ]
        }
      ]
    },
    {
      "cell_type": "code",
      "source": [
        "s = \"hello world\"\n",
        "print(s.title())  # Output: \"Hello World\"\n"
      ],
      "metadata": {
        "colab": {
          "base_uri": "https://localhost:8080/"
        },
        "id": "orEIj5Nbh1hV",
        "outputId": "c2fa8e63-d37d-4204-c700-24d699a32b48"
      },
      "execution_count": 3,
      "outputs": [
        {
          "output_type": "stream",
          "name": "stdout",
          "text": [
            "Hello World\n"
          ]
        }
      ]
    },
    {
      "cell_type": "code",
      "source": [
        "s = \"  hello  \"\n",
        "print(s.strip())  # Output: \"hello\"\n"
      ],
      "metadata": {
        "colab": {
          "base_uri": "https://localhost:8080/"
        },
        "id": "N1qJAhZVhNOa",
        "outputId": "17cf9c92-0370-44e4-ff38-9d777ef026c6"
      },
      "execution_count": 4,
      "outputs": [
        {
          "output_type": "stream",
          "name": "stdout",
          "text": [
            "hello\n"
          ]
        }
      ]
    },
    {
      "cell_type": "code",
      "source": [
        "s = \"hello world\"\n",
        "print(s.replace(\"world\", \"Python\"))  # Output: \"hello Python\"\n"
      ],
      "metadata": {
        "colab": {
          "base_uri": "https://localhost:8080/"
        },
        "id": "IdfHko7uhPXd",
        "outputId": "9b56070c-4ebb-4c74-dd38-ab65c9d45cf5"
      },
      "execution_count": 5,
      "outputs": [
        {
          "output_type": "stream",
          "name": "stdout",
          "text": [
            "hello Python\n"
          ]
        }
      ]
    },
    {
      "cell_type": "code",
      "source": [
        "s = \"apple,banana,orange\"\n",
        "print(s.split(','))  # Output: ['apple', 'banana', 'orange']\n"
      ],
      "metadata": {
        "colab": {
          "base_uri": "https://localhost:8080/"
        },
        "id": "jOpbR7VqhSQy",
        "outputId": "19a88570-1c0b-4357-d55f-2fc65b024132"
      },
      "execution_count": 6,
      "outputs": [
        {
          "output_type": "stream",
          "name": "stdout",
          "text": [
            "['apple', 'banana', 'orange']\n"
          ]
        }
      ]
    },
    {
      "cell_type": "code",
      "source": [
        "s = \"-\"\n",
        "print(s.join([\"apple\", \"banana\", \"cherry\"]))  # Output: \"apple-banana-cherry\"\n"
      ],
      "metadata": {
        "colab": {
          "base_uri": "https://localhost:8080/"
        },
        "id": "1hsWJN7ThViQ",
        "outputId": "b4ed685d-02ce-45a2-fa10-b46cbc3bc3a9"
      },
      "execution_count": 7,
      "outputs": [
        {
          "output_type": "stream",
          "name": "stdout",
          "text": [
            "apple-banana-cherry\n"
          ]
        }
      ]
    },
    {
      "cell_type": "code",
      "source": [
        "s = \"hello\"\n",
        "print(s.find(\"e\"))  # Output: 1\n",
        "print(s.find(\"z\"))  # Output: -1\n"
      ],
      "metadata": {
        "colab": {
          "base_uri": "https://localhost:8080/"
        },
        "id": "2abFUuLZhXpG",
        "outputId": "fd91d629-9570-48db-8a8c-8459276f10a3"
      },
      "execution_count": 8,
      "outputs": [
        {
          "output_type": "stream",
          "name": "stdout",
          "text": [
            "1\n",
            "-1\n"
          ]
        }
      ]
    },
    {
      "cell_type": "code",
      "source": [
        "s = \"hello world\"\n",
        "print(s.count(\"o\"))  # Output: 2\n"
      ],
      "metadata": {
        "colab": {
          "base_uri": "https://localhost:8080/"
        },
        "id": "K2lD6wathZsC",
        "outputId": "c6f3fccd-f7c2-4ca3-b347-b692600cae2f"
      },
      "execution_count": 9,
      "outputs": [
        {
          "output_type": "stream",
          "name": "stdout",
          "text": [
            "2\n"
          ]
        }
      ]
    },
    {
      "cell_type": "code",
      "source": [
        "s = \"hello\"\n",
        "print(s.startswith(\"he\"))  # Output: True\n"
      ],
      "metadata": {
        "colab": {
          "base_uri": "https://localhost:8080/"
        },
        "id": "vTalCTaihbZw",
        "outputId": "1668ae54-2813-4ee3-af75-c750c2158807"
      },
      "execution_count": 10,
      "outputs": [
        {
          "output_type": "stream",
          "name": "stdout",
          "text": [
            "True\n"
          ]
        }
      ]
    },
    {
      "cell_type": "code",
      "source": [
        "s = \"hello\"\n",
        "print(s.endswith(\"lo\"))  # Output: True\n"
      ],
      "metadata": {
        "colab": {
          "base_uri": "https://localhost:8080/"
        },
        "id": "GOoDDdichjiB",
        "outputId": "d258c7b3-eebe-45b8-b577-4f73cbba5e06"
      },
      "execution_count": 11,
      "outputs": [
        {
          "output_type": "stream",
          "name": "stdout",
          "text": [
            "True\n"
          ]
        }
      ]
    },
    {
      "cell_type": "code",
      "source": [
        "s = \"hello\"\n",
        "print(s.isalpha())  # Output: True\n"
      ],
      "metadata": {
        "colab": {
          "base_uri": "https://localhost:8080/"
        },
        "id": "7iNNaiOuhla6",
        "outputId": "8f358c4b-f995-4b3f-be6a-34715c4b7aa2"
      },
      "execution_count": 12,
      "outputs": [
        {
          "output_type": "stream",
          "name": "stdout",
          "text": [
            "True\n"
          ]
        }
      ]
    },
    {
      "cell_type": "code",
      "source": [
        "s = \"12345\"\n",
        "print(s.isdigit())  # Output: True\n"
      ],
      "metadata": {
        "colab": {
          "base_uri": "https://localhost:8080/"
        },
        "id": "VztRCt_Phni5",
        "outputId": "a9c0f97b-143e-4bae-8a27-ad522bc092a8"
      },
      "execution_count": 13,
      "outputs": [
        {
          "output_type": "stream",
          "name": "stdout",
          "text": [
            "True\n"
          ]
        }
      ]
    },
    {
      "cell_type": "code",
      "source": [
        "s = \"Ⅻ\"  # Roman numeral for 12\n",
        "print(s.isnumeric())  # Output: True\n"
      ],
      "metadata": {
        "colab": {
          "base_uri": "https://localhost:8080/"
        },
        "id": "JE65-J5ihsqU",
        "outputId": "aa59daad-d96a-44a9-c465-ae18a38cf6c0"
      },
      "execution_count": 14,
      "outputs": [
        {
          "output_type": "stream",
          "name": "stdout",
          "text": [
            "True\n"
          ]
        }
      ]
    },
    {
      "cell_type": "code",
      "source": [
        "s = \"Hello, {}!\"\n",
        "print(s.format(\"Alice\"))  # Output: \"Hello, Alice!\"\n"
      ],
      "metadata": {
        "colab": {
          "base_uri": "https://localhost:8080/"
        },
        "id": "K4F3Zf_ShxIz",
        "outputId": "c14f0f4b-0522-4897-9ef7-b711ca9f19f8"
      },
      "execution_count": 15,
      "outputs": [
        {
          "output_type": "stream",
          "name": "stdout",
          "text": [
            "Hello, Alice!\n"
          ]
        }
      ]
    }
  ]
}