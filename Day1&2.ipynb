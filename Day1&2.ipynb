{
  "nbformat": 4,
  "nbformat_minor": 0,
  "metadata": {
    "colab": {
      "provenance": [],
      "toc_visible": true
    },
    "kernelspec": {
      "name": "python3",
      "display_name": "Python 3"
    },
    "language_info": {
      "name": "python"
    }
  },
  "cells": [
    {
      "cell_type": "code",
      "execution_count": null,
      "metadata": {
        "colab": {
          "base_uri": "https://localhost:8080/"
        },
        "id": "DC9BSJq65q7B",
        "outputId": "d112bcf1-72f9-4ff9-a37d-b3e115e3aae6"
      },
      "outputs": [
        {
          "output_type": "stream",
          "name": "stdout",
          "text": [
            "Hello, World!\n"
          ]
        }
      ],
      "source": [
        "print(\"Hello, World!\")"
      ]
    },
    {
      "cell_type": "markdown",
      "source": [
        "# Variables\n",
        "\n"
      ],
      "metadata": {
        "id": "aSO3Xvku7tMt"
      }
    },
    {
      "cell_type": "code",
      "source": [
        "#integer\n",
        "a = 2\n",
        "print(type(a))\n",
        "print(a)"
      ],
      "metadata": {
        "colab": {
          "base_uri": "https://localhost:8080/"
        },
        "id": "pBHtaX_255o-",
        "outputId": "fe37af32-5ed1-473e-df5c-e6fdc83a98d0"
      },
      "execution_count": null,
      "outputs": [
        {
          "output_type": "stream",
          "name": "stdout",
          "text": [
            "<class 'int'>\n",
            "2\n"
          ]
        }
      ]
    },
    {
      "cell_type": "code",
      "source": [
        "#float\n",
        "a = 2.5\n",
        "print(a)\n",
        "print(type(a))"
      ],
      "metadata": {
        "colab": {
          "base_uri": "https://localhost:8080/"
        },
        "id": "Ifp8uMS_84Dl",
        "outputId": "6c8e84ba-7480-4006-ca56-fe8645a0346a"
      },
      "execution_count": null,
      "outputs": [
        {
          "output_type": "stream",
          "name": "stdout",
          "text": [
            "2.5\n",
            "<class 'float'>\n"
          ]
        }
      ]
    },
    {
      "cell_type": "code",
      "source": [
        "#string\n",
        "a = 'string'\n",
        "print(a)\n",
        "print(type(a))"
      ],
      "metadata": {
        "colab": {
          "base_uri": "https://localhost:8080/"
        },
        "id": "O21lNQfD9QJ-",
        "outputId": "9359c8fb-109a-466b-83f1-766c8178969a"
      },
      "execution_count": null,
      "outputs": [
        {
          "output_type": "stream",
          "name": "stdout",
          "text": [
            "string\n",
            "<class 'str'>\n"
          ]
        }
      ]
    },
    {
      "cell_type": "code",
      "source": [
        "a = \"2\"\n",
        "print(a)\n",
        "print(type(a))"
      ],
      "metadata": {
        "colab": {
          "base_uri": "https://localhost:8080/"
        },
        "id": "yVan1vES9bUI",
        "outputId": "0031bd1c-db54-449b-d819-fce6671a46f8"
      },
      "execution_count": null,
      "outputs": [
        {
          "output_type": "stream",
          "name": "stdout",
          "text": [
            "2\n",
            "<class 'str'>\n"
          ]
        }
      ]
    },
    {
      "cell_type": "code",
      "source": [
        "myVar = 20\n",
        "MyVar = 30\n",
        "print(myVar)\n",
        "print(MyVar)"
      ],
      "metadata": {
        "colab": {
          "base_uri": "https://localhost:8080/"
        },
        "id": "6q6fpSUF9qvN",
        "outputId": "682278ee-5348-48b5-8ba4-c597f425dffe"
      },
      "execution_count": null,
      "outputs": [
        {
          "output_type": "stream",
          "name": "stdout",
          "text": [
            "20\n",
            "30\n"
          ]
        }
      ]
    },
    {
      "cell_type": "code",
      "source": [
        "#variable declaration\n",
        "# _ or a-z or A-Z\n",
        "\n",
        "_var1 = 20\n",
        "print(_var1)"
      ],
      "metadata": {
        "colab": {
          "base_uri": "https://localhost:8080/"
        },
        "id": "I-9-LGnf-DnC",
        "outputId": "ed810c8a-2157-470d-a4a2-dd10ebce068a"
      },
      "execution_count": null,
      "outputs": [
        {
          "output_type": "stream",
          "name": "stdout",
          "text": [
            "20\n"
          ]
        }
      ]
    },
    {
      "cell_type": "code",
      "source": [
        "var1 = 20\n",
        "print(var1)"
      ],
      "metadata": {
        "colab": {
          "base_uri": "https://localhost:8080/"
        },
        "id": "xR7qAA2P-ebc",
        "outputId": "c61761af-074d-442b-e195-5b49704c49ae"
      },
      "execution_count": null,
      "outputs": [
        {
          "output_type": "stream",
          "name": "stdout",
          "text": [
            "20\n"
          ]
        }
      ]
    },
    {
      "cell_type": "code",
      "source": [
        "if = 20\n",
        "print(if)"
      ],
      "metadata": {
        "colab": {
          "base_uri": "https://localhost:8080/",
          "height": 110
        },
        "id": "KtUKlFHI-yk2",
        "outputId": "d7e11da9-c08c-4921-882b-0f542b9f5aed"
      },
      "execution_count": null,
      "outputs": [
        {
          "output_type": "error",
          "ename": "SyntaxError",
          "evalue": "invalid syntax (<ipython-input-13-62b2990fe20d>, line 1)",
          "traceback": [
            "\u001b[0;36m  File \u001b[0;32m\"<ipython-input-13-62b2990fe20d>\"\u001b[0;36m, line \u001b[0;32m1\u001b[0m\n\u001b[0;31m    if = 20\u001b[0m\n\u001b[0m       ^\u001b[0m\n\u001b[0;31mSyntaxError\u001b[0m\u001b[0;31m:\u001b[0m invalid syntax\n"
          ]
        }
      ]
    },
    {
      "cell_type": "code",
      "source": [
        "# multi variable assigning\n",
        "a,b,c = 10,20,30\n",
        "print(a,b,c)"
      ],
      "metadata": {
        "colab": {
          "base_uri": "https://localhost:8080/"
        },
        "id": "VBKAohtA_iww",
        "outputId": "c4fb29a9-2f1f-497d-a1fe-429126f72f7d"
      },
      "execution_count": null,
      "outputs": [
        {
          "output_type": "stream",
          "name": "stdout",
          "text": [
            "10 20 30\n"
          ]
        }
      ]
    },
    {
      "cell_type": "code",
      "source": [
        "# multi variable assigning\n",
        "a,b,c = 10,20.50,'String'\n",
        "print(a,b,c)"
      ],
      "metadata": {
        "colab": {
          "base_uri": "https://localhost:8080/"
        },
        "id": "IxvJzWxrAJ0_",
        "outputId": "cf7b6c4c-5521-45fc-b99f-3afa2c9fbf70"
      },
      "execution_count": null,
      "outputs": [
        {
          "output_type": "stream",
          "name": "stdout",
          "text": [
            "10 20.5 String\n"
          ]
        }
      ]
    },
    {
      "cell_type": "code",
      "source": [
        "#Constant Values\n",
        "PI = 3.14\n",
        "print(PI)"
      ],
      "metadata": {
        "colab": {
          "base_uri": "https://localhost:8080/"
        },
        "id": "ZCaWqAVaAc0E",
        "outputId": "99f15e85-d2dd-4eab-de2a-3adac4130bac"
      },
      "execution_count": null,
      "outputs": [
        {
          "output_type": "stream",
          "name": "stdout",
          "text": [
            "3.14\n"
          ]
        }
      ]
    },
    {
      "cell_type": "code",
      "source": [
        "PI =20\n",
        "print(PI)"
      ],
      "metadata": {
        "colab": {
          "base_uri": "https://localhost:8080/"
        },
        "id": "yUfTf7eMBKGK",
        "outputId": "80ef7be5-3d26-4d1b-bd75-72b6e186e424"
      },
      "execution_count": null,
      "outputs": [
        {
          "output_type": "stream",
          "name": "stdout",
          "text": [
            "20\n"
          ]
        }
      ]
    },
    {
      "cell_type": "code",
      "source": [
        "print(_var1)"
      ],
      "metadata": {
        "colab": {
          "base_uri": "https://localhost:8080/"
        },
        "id": "AAL4pAIhBrml",
        "outputId": "e7fc0f10-2f01-4e29-e7b6-f441b9ec4090"
      },
      "execution_count": null,
      "outputs": [
        {
          "output_type": "stream",
          "name": "stdout",
          "text": [
            "20\n"
          ]
        }
      ]
    },
    {
      "cell_type": "code",
      "source": [
        "del _var1\n"
      ],
      "metadata": {
        "id": "0jzNi9RTB0FN"
      },
      "execution_count": null,
      "outputs": []
    },
    {
      "cell_type": "markdown",
      "source": [
        "# Input/Output Functions\n"
      ],
      "metadata": {
        "id": "Eaa7lR889qbZ"
      }
    },
    {
      "cell_type": "code",
      "source": [
        "var = input()\n",
        "print(var)"
      ],
      "metadata": {
        "id": "Gcnq4kIwAsk6",
        "colab": {
          "base_uri": "https://localhost:8080/"
        },
        "outputId": "1cee9d3d-1041-4042-fb5c-ed114f30cab6"
      },
      "execution_count": null,
      "outputs": [
        {
          "output_type": "stream",
          "name": "stdout",
          "text": [
            "20\n",
            "20\n"
          ]
        }
      ]
    },
    {
      "cell_type": "code",
      "source": [
        "var = input(\"Enter a value: \")\n",
        "print(var)\n",
        "print(type(var))"
      ],
      "metadata": {
        "colab": {
          "base_uri": "https://localhost:8080/"
        },
        "id": "pnLVrg_yY1kf",
        "outputId": "188047f2-6601-4147-a183-dc62f7fb36b8"
      },
      "execution_count": null,
      "outputs": [
        {
          "output_type": "stream",
          "name": "stdout",
          "text": [
            "Enter a value: 30\n",
            "30\n",
            "<class 'str'>\n"
          ]
        }
      ]
    },
    {
      "cell_type": "code",
      "source": [
        "var=int(input(\"Enter a value: \"))\n",
        "print(var)\n",
        "print(type(var))"
      ],
      "metadata": {
        "colab": {
          "base_uri": "https://localhost:8080/"
        },
        "id": "eCqiC_HvZduy",
        "outputId": "2d17e7be-0d81-4ffc-9e7a-8ec935ec43b7"
      },
      "execution_count": null,
      "outputs": [
        {
          "output_type": "stream",
          "name": "stdout",
          "text": [
            "Enter a value: 30\n",
            "30\n",
            "<class 'int'>\n"
          ]
        }
      ]
    },
    {
      "cell_type": "code",
      "source": [
        "age=int(input(\"Enter your age: \"))\n",
        "print(\"Your age is\", age) #regular printing statement"
      ],
      "metadata": {
        "colab": {
          "base_uri": "https://localhost:8080/"
        },
        "id": "dTbx09WBbB4A",
        "outputId": "fd910ed7-a195-4005-e460-1629e31964ec"
      },
      "execution_count": null,
      "outputs": [
        {
          "output_type": "stream",
          "name": "stdout",
          "text": [
            "Enter your age: 30\n",
            "Your age is 30\n"
          ]
        }
      ]
    },
    {
      "cell_type": "code",
      "source": [
        "print(\"python\", \"is\", \"easy\", sep=\"-\", end=\" and \")\n",
        "print(\"it is fun to learn python\")"
      ],
      "metadata": {
        "colab": {
          "base_uri": "https://localhost:8080/"
        },
        "id": "fK8IKOCQbX7h",
        "outputId": "b53d160f-b5ec-407b-defd-43047ed47787"
      },
      "execution_count": null,
      "outputs": [
        {
          "output_type": "stream",
          "name": "stdout",
          "text": [
            "python-is-easy and it is fun to learn python\n"
          ]
        }
      ]
    },
    {
      "cell_type": "code",
      "source": [
        "age = 30\n",
        "age2 = 20\n",
        "print(\"Your {1} age is {0}\" .format(age, age2)) #print using .formate()"
      ],
      "metadata": {
        "colab": {
          "base_uri": "https://localhost:8080/"
        },
        "id": "nwDHXjUzdDiQ",
        "outputId": "eb2c2216-3a74-4ad9-e9cc-44624c98b4ad"
      },
      "execution_count": null,
      "outputs": [
        {
          "output_type": "stream",
          "name": "stdout",
          "text": [
            "Your 20 age is 30\n"
          ]
        }
      ]
    },
    {
      "cell_type": "code",
      "source": [
        "age = 30\n",
        "name='ram'\n",
        "print(f\"My name is {name} and age is {age}.\") #print using f-string *mostly used method*\n",
        "print(\"My name is \", name, \" and age is \", age,\".\", sep='')\n",
        "print(\"My name is \" + name + \" and age is \" + str(age) + \".\", sep='')"
      ],
      "metadata": {
        "colab": {
          "base_uri": "https://localhost:8080/"
        },
        "id": "om6upik6ei7s",
        "outputId": "5f4fc950-838c-4fbe-ef9d-5dd5c8ebfbc5"
      },
      "execution_count": null,
      "outputs": [
        {
          "output_type": "stream",
          "name": "stdout",
          "text": [
            "My name is ram and age is 30.\n",
            "My name is ram and age is 30.\n",
            "My name is ram and age is 30.\n"
          ]
        }
      ]
    },
    {
      "cell_type": "code",
      "source": [
        "x='50 '\n",
        "y='40'\n",
        "z=10\n",
        "print(x+y+str(z)) #concatination\n",
        "print(int(x)+int(y)+z)"
      ],
      "metadata": {
        "colab": {
          "base_uri": "https://localhost:8080/"
        },
        "id": "reRS1J0Cha6f",
        "outputId": "674bab23-aee5-4797-d5e9-f399a2a527a6"
      },
      "execution_count": null,
      "outputs": [
        {
          "output_type": "stream",
          "name": "stdout",
          "text": [
            "50 4010\n",
            "100\n"
          ]
        }
      ]
    },
    {
      "cell_type": "markdown",
      "source": [
        "# Type casting"
      ],
      "metadata": {
        "id": "GdZEARjoZ_bf"
      }
    },
    {
      "cell_type": "code",
      "source": [
        "x='3'\n",
        "y=400\n",
        "z=5.05\n",
        "print(type(x))\n",
        "print(type(y))\n",
        "print(type(z))"
      ],
      "metadata": {
        "colab": {
          "base_uri": "https://localhost:8080/"
        },
        "id": "Ujn402kpZ-0E",
        "outputId": "dd23d79b-10d0-46fb-cbf5-2aaa6d30a073"
      },
      "execution_count": null,
      "outputs": [
        {
          "output_type": "stream",
          "name": "stdout",
          "text": [
            "<class 'str'>\n",
            "<class 'int'>\n",
            "<class 'float'>\n"
          ]
        }
      ]
    },
    {
      "cell_type": "code",
      "source": [
        "x=int('3')\n",
        "y=float(40)\n",
        "z=int(5.8)\n",
        "print(type(x))\n",
        "print(type(y))\n",
        "print(type(z))\n",
        "\n",
        "print(z)"
      ],
      "metadata": {
        "colab": {
          "base_uri": "https://localhost:8080/"
        },
        "id": "NRHC19OcaamK",
        "outputId": "60ae6354-dbfc-41eb-e6e3-8b8834b90a64"
      },
      "execution_count": null,
      "outputs": [
        {
          "output_type": "stream",
          "name": "stdout",
          "text": [
            "<class 'int'>\n",
            "<class 'float'>\n",
            "<class 'int'>\n",
            "5\n"
          ]
        }
      ]
    }
  ]
}