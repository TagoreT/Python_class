{
  "nbformat": 4,
  "nbformat_minor": 0,
  "metadata": {
    "colab": {
      "provenance": [],
      "authorship_tag": "ABX9TyNBdkfFvkToWyXOenLR2Aea",
      "include_colab_link": true
    },
    "kernelspec": {
      "name": "python3",
      "display_name": "Python 3"
    },
    "language_info": {
      "name": "python"
    }
  },
  "cells": [
    {
      "cell_type": "markdown",
      "metadata": {
        "id": "view-in-github",
        "colab_type": "text"
      },
      "source": [
        "<a href=\"https://colab.research.google.com/github/TagoreT/Python_class/blob/main/day6%20-%20Strings.ipynb\" target=\"_parent\"><img src=\"https://colab.research.google.com/assets/colab-badge.svg\" alt=\"Open In Colab\"/></a>"
      ]
    },
    {
      "cell_type": "markdown",
      "source": [
        "# String - Methods"
      ],
      "metadata": {
        "id": "iuDs-rtuVzky"
      }
    },
    {
      "cell_type": "markdown",
      "source": [
        "1. upper()\n",
        "2. lower()\n",
        "3. find()\n",
        "4. strip()\n",
        "5. replace()\n",
        "6. split()\n",
        "7. title()\n",
        "\n",
        "**Checking methods** -\n",
        "1. isdigit()\n",
        "2. isapha()\n",
        "3. isalnum()\n",
        "4. isupper()\n",
        "5. islower()"
      ],
      "metadata": {
        "id": "wWkb889kfGG4"
      }
    },
    {
      "cell_type": "code",
      "execution_count": 4,
      "metadata": {
        "id": "yfLfgT6kVn8l"
      },
      "outputs": [],
      "source": [
        "text = 'Python is easy'"
      ]
    },
    {
      "cell_type": "code",
      "source": [
        "text.title()"
      ],
      "metadata": {
        "colab": {
          "base_uri": "https://localhost:8080/",
          "height": 36
        },
        "id": "vO25ACasgIbD",
        "outputId": "ad03a27a-6ad2-4b63-b391-30e879b9986b"
      },
      "execution_count": 5,
      "outputs": [
        {
          "output_type": "execute_result",
          "data": {
            "text/plain": [
              "'Python Is Easy'"
            ],
            "application/vnd.google.colaboratory.intrinsic+json": {
              "type": "string"
            }
          },
          "metadata": {},
          "execution_count": 5
        }
      ]
    },
    {
      "cell_type": "code",
      "source": [
        "text2 = text.upper()"
      ],
      "metadata": {
        "id": "rkDsqSU_WDqm"
      },
      "execution_count": null,
      "outputs": []
    },
    {
      "cell_type": "code",
      "source": [
        "text, text2"
      ],
      "metadata": {
        "colab": {
          "base_uri": "https://localhost:8080/"
        },
        "id": "z5dswuMHWM5q",
        "outputId": "7306f1a4-f3d3-4e13-c26a-274457bf2800"
      },
      "execution_count": null,
      "outputs": [
        {
          "output_type": "execute_result",
          "data": {
            "text/plain": [
              "('Python is easy', 'PYTHON IS EASY')"
            ]
          },
          "metadata": {},
          "execution_count": 8
        }
      ]
    },
    {
      "cell_type": "code",
      "source": [
        "text2 = text2.lower()"
      ],
      "metadata": {
        "id": "8IEHa2paWwPQ"
      },
      "execution_count": null,
      "outputs": []
    },
    {
      "cell_type": "code",
      "source": [
        "text2"
      ],
      "metadata": {
        "colab": {
          "base_uri": "https://localhost:8080/",
          "height": 36
        },
        "id": "GwjwePaHW2s2",
        "outputId": "a06160ec-aed6-414a-aab6-cf6c5f88c167"
      },
      "execution_count": null,
      "outputs": [
        {
          "output_type": "execute_result",
          "data": {
            "text/plain": [
              "'PYTHON IS EASY'"
            ],
            "application/vnd.google.colaboratory.intrinsic+json": {
              "type": "string"
            }
          },
          "metadata": {},
          "execution_count": 14
        }
      ]
    },
    {
      "cell_type": "code",
      "source": [
        "text.replace('Python is', 'Java')"
      ],
      "metadata": {
        "colab": {
          "base_uri": "https://localhost:8080/",
          "height": 36
        },
        "id": "TCMve8I1XHF_",
        "outputId": "d129ea06-5c82-4628-d436-5f029a7418d7"
      },
      "execution_count": null,
      "outputs": [
        {
          "output_type": "execute_result",
          "data": {
            "text/plain": [
              "'Java easy'"
            ],
            "application/vnd.google.colaboratory.intrinsic+json": {
              "type": "string"
            }
          },
          "metadata": {},
          "execution_count": 17
        }
      ]
    },
    {
      "cell_type": "code",
      "source": [
        "text"
      ],
      "metadata": {
        "colab": {
          "base_uri": "https://localhost:8080/",
          "height": 36
        },
        "id": "OvT0ucDMXV31",
        "outputId": "613cceec-0916-4fe1-c5a6-3bef79570bdf"
      },
      "execution_count": null,
      "outputs": [
        {
          "output_type": "execute_result",
          "data": {
            "text/plain": [
              "'      Python is easy     '"
            ],
            "application/vnd.google.colaboratory.intrinsic+json": {
              "type": "string"
            }
          },
          "metadata": {},
          "execution_count": 19
        }
      ]
    },
    {
      "cell_type": "code",
      "source": [
        "text.strip()"
      ],
      "metadata": {
        "colab": {
          "base_uri": "https://localhost:8080/",
          "height": 36
        },
        "id": "6B6GeB65XyGM",
        "outputId": "3f56952e-3356-45a8-ee78-63ef48becd86"
      },
      "execution_count": null,
      "outputs": [
        {
          "output_type": "execute_result",
          "data": {
            "text/plain": [
              "'a    Python is easy'"
            ],
            "application/vnd.google.colaboratory.intrinsic+json": {
              "type": "string"
            }
          },
          "metadata": {},
          "execution_count": 22
        }
      ]
    },
    {
      "cell_type": "code",
      "source": [
        "name  = 'Ram   '"
      ],
      "metadata": {
        "id": "nwRLcG1QYPVL"
      },
      "execution_count": null,
      "outputs": []
    },
    {
      "cell_type": "code",
      "source": [
        "print(name == 'Ram')"
      ],
      "metadata": {
        "colab": {
          "base_uri": "https://localhost:8080/"
        },
        "id": "-2Uq2taPYfsK",
        "outputId": "e1def211-21f3-43e3-8950-35f9c02d4f06"
      },
      "execution_count": null,
      "outputs": [
        {
          "output_type": "stream",
          "name": "stdout",
          "text": [
            "True\n"
          ]
        }
      ]
    },
    {
      "cell_type": "code",
      "source": [
        "fruits = \"banana,apple,orange\"\n",
        "fruit = fruits.split(\",\")\n",
        "print(fruit, type(fruit))"
      ],
      "metadata": {
        "colab": {
          "base_uri": "https://localhost:8080/"
        },
        "id": "C7ayLwIMY3d-",
        "outputId": "3e3457f7-c32b-4ebc-818a-81089e09a090"
      },
      "execution_count": null,
      "outputs": [
        {
          "output_type": "stream",
          "name": "stdout",
          "text": [
            "['banana', 'apple', 'orange'] <class 'list'>\n"
          ]
        }
      ]
    },
    {
      "cell_type": "code",
      "source": [
        "cars = 'swift toyota mahindra maruthi'\n",
        "car = cars.split()\n",
        "print(car, type(car))"
      ],
      "metadata": {
        "colab": {
          "base_uri": "https://localhost:8080/"
        },
        "id": "mkWXgbrYaLdc",
        "outputId": "13dd8f3e-44de-4f27-c994-323381fd7176"
      },
      "execution_count": null,
      "outputs": [
        {
          "output_type": "stream",
          "name": "stdout",
          "text": [
            "['swift', 'toyota', 'mahindra', 'maruthi'] <class 'list'>\n"
          ]
        }
      ]
    },
    {
      "cell_type": "code",
      "source": [
        "data = \" \".join(car)\n",
        "print(data, type(data))"
      ],
      "metadata": {
        "colab": {
          "base_uri": "https://localhost:8080/"
        },
        "id": "bCAKQLmrbBlP",
        "outputId": "08f62bfd-075f-4278-b001-662f0b985001"
      },
      "execution_count": null,
      "outputs": [
        {
          "output_type": "stream",
          "name": "stdout",
          "text": [
            "swift toyota mahindra maruthi <class 'str'>\n"
          ]
        }
      ]
    },
    {
      "cell_type": "code",
      "source": [
        "data.find('tooo')"
      ],
      "metadata": {
        "colab": {
          "base_uri": "https://localhost:8080/"
        },
        "id": "GlbglTzxeqcG",
        "outputId": "7c1f77fd-654d-4241-8b26-3ea9aadf6e4e"
      },
      "execution_count": null,
      "outputs": [
        {
          "output_type": "execute_result",
          "data": {
            "text/plain": [
              "-1"
            ]
          },
          "metadata": {},
          "execution_count": 55
        }
      ]
    },
    {
      "cell_type": "code",
      "source": [
        "'to' in data"
      ],
      "metadata": {
        "colab": {
          "base_uri": "https://localhost:8080/"
        },
        "id": "lSKYEhnxfXCf",
        "outputId": "c0b9beaa-bb88-4b61-bfc0-b6c9b5a88e83"
      },
      "execution_count": null,
      "outputs": [
        {
          "output_type": "execute_result",
          "data": {
            "text/plain": [
              "True"
            ]
          },
          "metadata": {},
          "execution_count": 61
        }
      ]
    },
    {
      "cell_type": "code",
      "source": [
        "print('found' if data.find('too') != -1 else 'not found')\n",
        "\n",
        "print('found' if data.find('tooo') >= 0 else 'not found')\n",
        "\n",
        "print('found' if 'tooo' in data else 'not found')"
      ],
      "metadata": {
        "colab": {
          "base_uri": "https://localhost:8080/"
        },
        "id": "127-hy7lb64Y",
        "outputId": "c41f4893-cf1d-4cc2-c847-847f16f12ad6"
      },
      "execution_count": null,
      "outputs": [
        {
          "output_type": "stream",
          "name": "stdout",
          "text": [
            "not found\n",
            "not found\n",
            "not found\n"
          ]
        }
      ]
    },
    {
      "cell_type": "markdown",
      "source": [
        "# String checking methods"
      ],
      "metadata": {
        "id": "k_0vUrMWg5DW"
      }
    },
    {
      "cell_type": "code",
      "source": [
        "name = 'ramya'\n",
        "name.isalpha()"
      ],
      "metadata": {
        "colab": {
          "base_uri": "https://localhost:8080/"
        },
        "id": "sORL5YI9crva",
        "outputId": "1cb4fab8-4134-45a8-e08a-00d75f07edcc"
      },
      "execution_count": 1,
      "outputs": [
        {
          "output_type": "execute_result",
          "data": {
            "text/plain": [
              "True"
            ]
          },
          "metadata": {},
          "execution_count": 1
        }
      ]
    },
    {
      "cell_type": "code",
      "source": [
        "rol_no = '220'\n",
        "rol_no.isdigit()"
      ],
      "metadata": {
        "colab": {
          "base_uri": "https://localhost:8080/"
        },
        "id": "R0SfzinahTQD",
        "outputId": "c2c64fcb-463f-4595-c05f-83983f619a15"
      },
      "execution_count": null,
      "outputs": [
        {
          "output_type": "execute_result",
          "data": {
            "text/plain": [
              "True"
            ]
          },
          "metadata": {},
          "execution_count": 75
        }
      ]
    },
    {
      "cell_type": "code",
      "source": [
        "roll_no = '22VV1 F0001'\n",
        "roll_no.isalnum()\n",
        "type(roll_no)"
      ],
      "metadata": {
        "colab": {
          "base_uri": "https://localhost:8080/"
        },
        "id": "bgip8xm_huRi",
        "outputId": "4db27df8-5169-4e92-d6ba-9a3f85e39f75"
      },
      "execution_count": null,
      "outputs": [
        {
          "output_type": "execute_result",
          "data": {
            "text/plain": [
              "str"
            ]
          },
          "metadata": {},
          "execution_count": 73
        }
      ]
    },
    {
      "cell_type": "code",
      "source": [
        "int(rol_no)"
      ],
      "metadata": {
        "colab": {
          "base_uri": "https://localhost:8080/"
        },
        "id": "jbQGvocsiiDM",
        "outputId": "8ef3dafa-5632-4d80-fe90-41d82c518d0d"
      },
      "execution_count": null,
      "outputs": [
        {
          "output_type": "execute_result",
          "data": {
            "text/plain": [
              "220"
            ]
          },
          "metadata": {},
          "execution_count": 76
        }
      ]
    },
    {
      "cell_type": "code",
      "source": [
        "name.isupper()"
      ],
      "metadata": {
        "colab": {
          "base_uri": "https://localhost:8080/"
        },
        "id": "dnzrPw3gfoZl",
        "outputId": "fc297dbb-1ea0-4f23-f7dd-df2ab918336c"
      },
      "execution_count": 2,
      "outputs": [
        {
          "output_type": "execute_result",
          "data": {
            "text/plain": [
              "False"
            ]
          },
          "metadata": {},
          "execution_count": 2
        }
      ]
    },
    {
      "cell_type": "code",
      "source": [
        "name.islower()"
      ],
      "metadata": {
        "colab": {
          "base_uri": "https://localhost:8080/"
        },
        "id": "NXEKZGI1f4wn",
        "outputId": "e39a3b8c-8e49-47a4-ef56-7496dbf6c1e0"
      },
      "execution_count": 3,
      "outputs": [
        {
          "output_type": "execute_result",
          "data": {
            "text/plain": [
              "True"
            ]
          },
          "metadata": {},
          "execution_count": 3
        }
      ]
    },
    {
      "cell_type": "code",
      "source": [
        "text = 'Python is easy'\n",
        "text[10]\n",
        "text[-1]"
      ],
      "metadata": {
        "colab": {
          "base_uri": "https://localhost:8080/",
          "height": 36
        },
        "id": "nFmcsCL0gVve",
        "outputId": "db92e112-4ff3-40fa-86e0-9c2f69f188b2"
      },
      "execution_count": 16,
      "outputs": [
        {
          "output_type": "execute_result",
          "data": {
            "text/plain": [
              "'y'"
            ],
            "application/vnd.google.colaboratory.intrinsic+json": {
              "type": "string"
            }
          },
          "metadata": {},
          "execution_count": 16
        }
      ]
    },
    {
      "cell_type": "code",
      "source": [
        "text[0:6] # 6-1 = 5 index, p-0, y-1, t-2, h-3, o-4, n-5"
      ],
      "metadata": {
        "colab": {
          "base_uri": "https://localhost:8080/",
          "height": 36
        },
        "id": "cNDVqdiTg0k-",
        "outputId": "b6e79128-bb91-4154-bda4-663ac23dc176"
      },
      "execution_count": 9,
      "outputs": [
        {
          "output_type": "execute_result",
          "data": {
            "text/plain": [
              "'Python'"
            ],
            "application/vnd.google.colaboratory.intrinsic+json": {
              "type": "string"
            }
          },
          "metadata": {},
          "execution_count": 9
        }
      ]
    },
    {
      "cell_type": "code",
      "source": [
        "# range(start : end : step)\n",
        "text[:6] # 0, 1, 2, 3, 4, 5"
      ],
      "metadata": {
        "colab": {
          "base_uri": "https://localhost:8080/",
          "height": 36
        },
        "id": "uZbw8pDzhWd6",
        "outputId": "af285312-9977-444f-948b-b4bcff186162"
      },
      "execution_count": 10,
      "outputs": [
        {
          "output_type": "execute_result",
          "data": {
            "text/plain": [
              "'Python'"
            ],
            "application/vnd.google.colaboratory.intrinsic+json": {
              "type": "string"
            }
          },
          "metadata": {},
          "execution_count": 10
        }
      ]
    },
    {
      "cell_type": "code",
      "source": [
        "text.find('e')"
      ],
      "metadata": {
        "colab": {
          "base_uri": "https://localhost:8080/"
        },
        "id": "wmoqTGmbiQFt",
        "outputId": "14a506ab-f395-4122-e410-16313b611c0d"
      },
      "execution_count": 13,
      "outputs": [
        {
          "output_type": "execute_result",
          "data": {
            "text/plain": [
              "10"
            ]
          },
          "metadata": {},
          "execution_count": 13
        }
      ]
    },
    {
      "cell_type": "code",
      "source": [
        "text[::2]\n",
        "text[10:]"
      ],
      "metadata": {
        "colab": {
          "base_uri": "https://localhost:8080/",
          "height": 36
        },
        "id": "VyVg0Ikhh4TP",
        "outputId": "b8af388d-20df-4988-9d3c-b1752a67683c"
      },
      "execution_count": 15,
      "outputs": [
        {
          "output_type": "execute_result",
          "data": {
            "text/plain": [
              "'easy'"
            ],
            "application/vnd.google.colaboratory.intrinsic+json": {
              "type": "string"
            }
          },
          "metadata": {},
          "execution_count": 15
        }
      ]
    },
    {
      "cell_type": "code",
      "source": [
        "lang = text[0:6]\n",
        "lang"
      ],
      "metadata": {
        "colab": {
          "base_uri": "https://localhost:8080/",
          "height": 36
        },
        "id": "hMhXbM-xiwz3",
        "outputId": "dbceb3a0-2889-4827-ba89-f3fe1e32f567"
      },
      "execution_count": 17,
      "outputs": [
        {
          "output_type": "execute_result",
          "data": {
            "text/plain": [
              "'Python'"
            ],
            "application/vnd.google.colaboratory.intrinsic+json": {
              "type": "string"
            }
          },
          "metadata": {},
          "execution_count": 17
        }
      ]
    },
    {
      "cell_type": "code",
      "source": [
        "lang[::1]\n",
        "lang[::-1]"
      ],
      "metadata": {
        "colab": {
          "base_uri": "https://localhost:8080/",
          "height": 36
        },
        "id": "UNEfB7FGjBHq",
        "outputId": "3a270873-cf5d-42e5-eba5-c1acb3a6f48a"
      },
      "execution_count": 19,
      "outputs": [
        {
          "output_type": "execute_result",
          "data": {
            "text/plain": [
              "'nohtyP'"
            ],
            "application/vnd.google.colaboratory.intrinsic+json": {
              "type": "string"
            }
          },
          "metadata": {},
          "execution_count": 19
        }
      ]
    },
    {
      "cell_type": "code",
      "source": [
        "palindrome = 'Madam'\n",
        "palindrome = palindrome.lower()\n",
        "'It is palindrome' if palindrome[::-1] == palindrome else 'Not palindrome'"
      ],
      "metadata": {
        "colab": {
          "base_uri": "https://localhost:8080/",
          "height": 36
        },
        "id": "UQLrH9KzjWa-",
        "outputId": "f1f54a72-a5bf-4f85-b793-4dab13bdf97b"
      },
      "execution_count": 24,
      "outputs": [
        {
          "output_type": "execute_result",
          "data": {
            "text/plain": [
              "'It is palindrome'"
            ],
            "application/vnd.google.colaboratory.intrinsic+json": {
              "type": "string"
            }
          },
          "metadata": {},
          "execution_count": 24
        }
      ]
    },
    {
      "cell_type": "code",
      "source": [
        "text = 'PrOgramming'\n",
        "# text = text.lower()\n",
        "vowels = 'aeiou'\n",
        "count = 0\n",
        "\n",
        "for char in text:\n",
        "    if char in vowels: # if char.lowe() in vowels:\n",
        "        count += 1\n",
        "\n",
        "print('vowel count : ', count)"
      ],
      "metadata": {
        "colab": {
          "base_uri": "https://localhost:8080/"
        },
        "id": "mYcv4KeclJMU",
        "outputId": "df0bacf8-6f77-4b66-dcb5-01ae21052a35"
      },
      "execution_count": 31,
      "outputs": [
        {
          "output_type": "stream",
          "name": "stdout",
          "text": [
            "vowel count :  2\n"
          ]
        }
      ]
    },
    {
      "cell_type": "code",
      "source": [
        "username=input(\"Enter username:\")\n",
        "password=int(input(\"Enter password:\"))\n",
        "result = \"Welcome\" if username == \"gousepashi\" and password == 1234 else \"incorrect username or password\"\n",
        "print(result)"
      ],
      "metadata": {
        "colab": {
          "base_uri": "https://localhost:8080/"
        },
        "id": "roaU1Ui3nxVx",
        "outputId": "9f00dcfa-ba16-43fa-d49a-2d96f20ea51b"
      },
      "execution_count": 34,
      "outputs": [
        {
          "output_type": "stream",
          "name": "stdout",
          "text": [
            "Enter username:tagore\n",
            "Enter password:1234\n",
            "incorrect username or password\n"
          ]
        }
      ]
    },
    {
      "cell_type": "code",
      "source": [
        "username=input(\"enter username:\")\n",
        "password=int(input(\"enter password:\"))\n",
        "if username==\"gousepashi\" and password==1234:\n",
        "    print(\"welcome\")\n",
        "else:\n",
        "    print(\"incorrect username or password\")"
      ],
      "metadata": {
        "id": "7w1YRtThsQpi"
      },
      "execution_count": null,
      "outputs": []
    },
    {
      "cell_type": "code",
      "source": [
        "# username=input(\"Enter username: \")\n",
        "# password=int(input(\"Enter password: \"))\n",
        "# if username == \"gousepashi\":\n",
        "#     if password ==1234:\n",
        "#         print(\"Welcome\")\n",
        "\n",
        "#     else:\n",
        "#         print(\"incorrect username or password\")\n",
        "# else:\n",
        "#   print(\"incorrect username or password\")\n",
        "\n",
        "\n",
        "username = input(\"Enter username: \")\n",
        "password = input(\"Enter password: \")\n",
        "if password.isdigit():\n",
        "    password = int(password)\n",
        "else:\n",
        "    pass\n",
        "\n",
        "if username == \"gousepashi\":\n",
        "    if password == 1234:\n",
        "        print(\"Welcome\")\n",
        "    else:\n",
        "        print(\"incorrect username or password\")\n",
        "else:\n",
        "  print(\"incorrect username or password\")"
      ],
      "metadata": {
        "colab": {
          "base_uri": "https://localhost:8080/"
        },
        "id": "qdryYc2PppWy",
        "outputId": "1536786f-508a-415e-a25c-a4e83fa42e71"
      },
      "execution_count": 42,
      "outputs": [
        {
          "output_type": "stream",
          "name": "stdout",
          "text": [
            "Enter username: gousepashi\n",
            "Enter password: 1234\n",
            "Welcome\n"
          ]
        }
      ]
    },
    {
      "cell_type": "code",
      "source": [],
      "metadata": {
        "id": "OwH15pH6qPc5"
      },
      "execution_count": null,
      "outputs": []
    }
  ]
}