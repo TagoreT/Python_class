{
  "nbformat": 4,
  "nbformat_minor": 0,
  "metadata": {
    "colab": {
      "provenance": [],
      "toc_visible": true
    },
    "kernelspec": {
      "name": "python3",
      "display_name": "Python 3"
    },
    "language_info": {
      "name": "python"
    }
  },
  "cells": [
    {
      "cell_type": "markdown",
      "source": [
        "# **Operators**"
      ],
      "metadata": {
        "id": "bbgFBRR_WMuP"
      }
    },
    {
      "cell_type": "markdown",
      "source": [
        "# 1. Arthematic operators\n",
        "\n"
      ],
      "metadata": {
        "id": "axolKWu3juzz"
      }
    },
    {
      "cell_type": "code",
      "source": [
        "x=10\n",
        "y=20\n",
        "print(x+y) #Addition\n",
        "print(x-y) #Subtraction\n",
        "print(x*y) #Multiplication\n",
        "print(y/x) #Division\n",
        "print(5%3) #Modulus (remainder)\n",
        "print(5**3) #Exponentiation\n",
        "print(y//x) #Floor division (5.05, 5.85, 5.51 )"
      ],
      "metadata": {
        "colab": {
          "base_uri": "https://localhost:8080/"
        },
        "id": "aF1Je7sWjy04",
        "outputId": "16604409-9f9a-48d2-a343-569f6ce3ce09"
      },
      "execution_count": null,
      "outputs": [
        {
          "output_type": "stream",
          "name": "stdout",
          "text": [
            "30\n",
            "-10\n",
            "200\n",
            "2.0\n",
            "2\n",
            "125\n",
            "2\n"
          ]
        }
      ]
    },
    {
      "cell_type": "code",
      "source": [
        "str1 = 'abc '\n",
        "str2 = 'xyz'\n",
        "print(str1+str2)\n",
        "print(str1*5)"
      ],
      "metadata": {
        "colab": {
          "base_uri": "https://localhost:8080/"
        },
        "id": "SSj3kUeJlnVw",
        "outputId": "e6df07d0-24bd-43af-8349-28bd0898903d"
      },
      "execution_count": null,
      "outputs": [
        {
          "output_type": "stream",
          "name": "stdout",
          "text": [
            "abc xyz\n",
            "abc abc abc abc abc \n"
          ]
        }
      ]
    },
    {
      "cell_type": "markdown",
      "source": [
        "# 2.Comparision Operators"
      ],
      "metadata": {
        "id": "nsVrg10sWlq8"
      }
    },
    {
      "cell_type": "code",
      "source": [
        "x = 5\n",
        "y = 10\n",
        "\n",
        "print(x == y) #Equal to True or False\n",
        "print(x != y) #Not equal to True\n",
        "print(x > y) #Greater than\n",
        "print(x < y) #Less than\n",
        "print(x >= y) #Greater than or equal to\n",
        "print(x <= y) #Less than or equal to\n"
      ],
      "metadata": {
        "colab": {
          "base_uri": "https://localhost:8080/"
        },
        "id": "kKaiZet4Wqi1",
        "outputId": "a2468486-12e1-4528-f7cd-b6132553154a"
      },
      "execution_count": null,
      "outputs": [
        {
          "output_type": "stream",
          "name": "stdout",
          "text": [
            "False\n",
            "True\n",
            "False\n",
            "True\n",
            "False\n",
            "True\n"
          ]
        }
      ]
    },
    {
      "cell_type": "code",
      "source": [
        "a=10\n",
        "b=10\n",
        "print(a >= b)\n",
        "print(a <= b)"
      ],
      "metadata": {
        "colab": {
          "base_uri": "https://localhost:8080/"
        },
        "id": "CS0G8fghcqlY",
        "outputId": "6c76d31e-f070-419f-9e88-fb210a1393a0"
      },
      "execution_count": null,
      "outputs": [
        {
          "output_type": "stream",
          "name": "stdout",
          "text": [
            "True\n",
            "True\n"
          ]
        }
      ]
    },
    {
      "cell_type": "code",
      "source": [
        "x = 'abc'\n",
        "y = 'xyz'\n",
        "print(x == y)\n",
        "print(x != y)\n",
        "print(x > y)\n",
        "print(x < y)\n",
        "print(x >= y)\n",
        "print(x <= y)"
      ],
      "metadata": {
        "colab": {
          "base_uri": "https://localhost:8080/"
        },
        "id": "NgCtBYzZc53K",
        "outputId": "5d3ea1e3-f0ba-4c3f-d3c7-db06fb0e7bd4"
      },
      "execution_count": null,
      "outputs": [
        {
          "output_type": "stream",
          "name": "stdout",
          "text": [
            "False\n",
            "True\n",
            "False\n",
            "True\n",
            "False\n",
            "True\n"
          ]
        }
      ]
    },
    {
      "cell_type": "markdown",
      "source": [
        "# 3.Logical"
      ],
      "metadata": {
        "id": "aV4PbHZsdWd0"
      }
    },
    {
      "cell_type": "code",
      "source": [
        "# and, or, not\n",
        "\n",
        "x = True\n",
        "y = False\n",
        "print(x and y)\n",
        "print(x or y)\n",
        "print(not x)\n",
        "print(not y)"
      ],
      "metadata": {
        "colab": {
          "base_uri": "https://localhost:8080/"
        },
        "id": "-raOsmltdaxD",
        "outputId": "696c4dc7-7ef2-462f-9725-9b90f12bdc76"
      },
      "execution_count": null,
      "outputs": [
        {
          "output_type": "stream",
          "name": "stdout",
          "text": [
            "False\n",
            "True\n",
            "False\n",
            "True\n"
          ]
        }
      ]
    },
    {
      "cell_type": "markdown",
      "source": [
        "# 4.Assignment Operators"
      ],
      "metadata": {
        "id": "R3dPQ3FBd_9r"
      }
    },
    {
      "cell_type": "code",
      "source": [
        "# =, +=, -=, *=,\n",
        "\n",
        "x = 5\n",
        "print(x)\n",
        "x += 1 # x = x + 1\n",
        "print(x)\n",
        "x -= 1 # x = x-1\n",
        "print(x)\n",
        "x *= 2\n",
        "print(x)"
      ],
      "metadata": {
        "colab": {
          "base_uri": "https://localhost:8080/"
        },
        "id": "rnTpT14ieE63",
        "outputId": "a36eef0c-edf1-4e91-de6f-95a7ffed2f76"
      },
      "execution_count": null,
      "outputs": [
        {
          "output_type": "stream",
          "name": "stdout",
          "text": [
            "5\n",
            "6\n",
            "5\n",
            "10\n"
          ]
        }
      ]
    },
    {
      "cell_type": "markdown",
      "source": [
        "# 5.Identity Operators"
      ],
      "metadata": {
        "id": "cHiZZLt2hWOE"
      }
    },
    {
      "cell_type": "code",
      "source": [
        "x = [1,2,3,4,5] #list\n",
        "y = [1,2,3,4,5]\n",
        "z = x\n",
        "\n",
        "print(x is y)\n",
        "print(x is z)\n",
        "print(x == z)\n",
        "print(x is not z)\n",
        "\n",
        "print(z)"
      ],
      "metadata": {
        "colab": {
          "base_uri": "https://localhost:8080/"
        },
        "id": "OdSJJzj8fTRN",
        "outputId": "3faa4287-b32c-432c-a9fd-4072efa9934c"
      },
      "execution_count": null,
      "outputs": [
        {
          "output_type": "stream",
          "name": "stdout",
          "text": [
            "False\n",
            "True\n",
            "True\n",
            "False\n",
            "[1, 2, 3, 4, 5]\n"
          ]
        }
      ]
    },
    {
      "cell_type": "markdown",
      "source": [
        "# 6.Bitwise operators"
      ],
      "metadata": {
        "id": "Qe-bj6hkjDh3"
      }
    },
    {
      "cell_type": "code",
      "source": [
        "# 8 4 2 1\n",
        "# 0 1 0 1\n",
        "# 0 0 1 1\n",
        "\n",
        "a = 5  # 0101 in binary\n",
        "b = 3  # 0011 in binary\n",
        "\n",
        "print(a & b)  # 1   (0101 & 0011 = 0001) #AND\n",
        "print(a | b)  # 7   (0101 | 0011 = 0111) #OR\n",
        "print(a ^ b)  # 6   (0101 ^ 0011 = 0110) #XOR\n",
        "print(~a)     # -6  (~0101 = 1010, which is -6 in two's complement) #NOT\n",
        "print(a << 1) # 10  (left shift by 1: 0101 becomes 1010)\n",
        "print(a >> 1) # 2   (right shift by 1: 0101 becomes 0010)"
      ],
      "metadata": {
        "colab": {
          "base_uri": "https://localhost:8080/"
        },
        "id": "SnItGXAujGk5",
        "outputId": "3194a635-1e8e-4cf6-f474-f6af1a127faa"
      },
      "execution_count": null,
      "outputs": [
        {
          "output_type": "stream",
          "name": "stdout",
          "text": [
            "1\n",
            "7\n",
            "6\n",
            "-6\n",
            "10\n",
            "2\n"
          ]
        }
      ]
    },
    {
      "cell_type": "markdown",
      "source": [
        "# 7.Membership operators"
      ],
      "metadata": {
        "id": "f-MINZB6khVE"
      }
    },
    {
      "cell_type": "code",
      "source": [
        "# in\n",
        "\n",
        "x = [1,2,3,4,5]\n",
        "\n",
        "print(1 in x)\n",
        "print(6 in x)\n",
        "print(6 not in x)\n",
        "print(1 not in x)"
      ],
      "metadata": {
        "colab": {
          "base_uri": "https://localhost:8080/"
        },
        "id": "IPx8ev6LkkXO",
        "outputId": "5f4796be-8c39-4584-b816-c5a1f9ae1bf4"
      },
      "execution_count": null,
      "outputs": [
        {
          "output_type": "stream",
          "name": "stdout",
          "text": [
            "True\n",
            "False\n",
            "True\n",
            "False\n"
          ]
        }
      ]
    },
    {
      "cell_type": "markdown",
      "source": [
        "# 8.Ternery operators"
      ],
      "metadata": {
        "id": "dtMEsZjDlYNm"
      }
    },
    {
      "cell_type": "code",
      "source": [
        "x = 10\n",
        "\n",
        "if x % 2 == 0:\n",
        "  result = \"Even\"\n",
        "else:\n",
        "  result = \"Odd\"\n",
        "\n",
        "print(result)  # \"Even\"\n",
        "\n",
        "result = \"Even\" if x % 2 == 0 else \"Odd\"\n",
        "#  true_value if condition else false_value\n",
        "\n",
        "print(result)  # \"Even\"\n",
        "\n",
        "print(\"Even\" if x % 2 == 0 else \"Odd\")"
      ],
      "metadata": {
        "colab": {
          "base_uri": "https://localhost:8080/"
        },
        "id": "TPEClU_ulb2R",
        "outputId": "77f8ccce-02df-4ff3-d5d9-0d218f2d2987"
      },
      "execution_count": null,
      "outputs": [
        {
          "output_type": "stream",
          "name": "stdout",
          "text": [
            "Even\n",
            "Even\n",
            "Even\n"
          ]
        }
      ]
    },
    {
      "cell_type": "markdown",
      "source": [
        "# 9.Labda Function"
      ],
      "metadata": {
        "id": "p3Q3JNtdnkP1"
      }
    },
    {
      "cell_type": "code",
      "source": [
        "mul = lambda a, b: a * b  #complex operations\n",
        "\n",
        "def sum(a, b):\n",
        "  return a + b\n",
        "\n",
        "print(mul(3, 4))  # 12\n",
        "print(sum(3, 4))\n",
        "\n",
        "print(type(mul))\n",
        "print(type(sum))"
      ],
      "metadata": {
        "colab": {
          "base_uri": "https://localhost:8080/"
        },
        "id": "KFSt_yYlnjoJ",
        "outputId": "15dc669b-e9ee-48f9-b094-14319de29d2d"
      },
      "execution_count": null,
      "outputs": [
        {
          "output_type": "stream",
          "name": "stdout",
          "text": [
            "12\n",
            "7\n",
            "<class 'function'>\n",
            "<class 'function'>\n"
          ]
        }
      ]
    }
  ]
}